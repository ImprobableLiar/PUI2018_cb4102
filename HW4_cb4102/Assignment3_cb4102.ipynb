{
 "cells": [
  {
   "cell_type": "markdown",
   "metadata": {},
   "source": [
    "### Null Hypothesis: the commute time for the new bus route is the same or longer on average than for the old bus route\n",
    "\n",
    "### Alternative Hypothesis: The new bus route results in a shorter commute time than the old bus route\n",
    "\n",
    "### Mathematically:\n",
    "\n",
    "### H0: new_bus_mean_time >= old_bus_mean_time\n",
    "\n",
    "### H1: new_bus_mean_time < old_bus_mean_time\n",
    "\n",
    "### significance threshold = 0.05 (so roughly two standard deviations away, 95% confidence interval)\n",
    "\n",
    "### Explanation: With a z-score of ~2.5 we reject the null hypothesis at a significance threshold of 0.05 (since 2.5 > 2). The z-score tells us that the the difference in means between the old bus route and the new bus route is statistically significant. The denominator of the z-score is the standard error of the sample, so with a relatively large sample of 100, the standard error is low and it drives the z-score higher."
   ]
  },
  {
   "cell_type": "code",
   "execution_count": 22,
   "metadata": {},
   "outputs": [],
   "source": [
    "with open('times.csv', 'r') as file:\n",
    "    linereader = file.readlines()\n",
    "    trip_data = []\n",
    "    for line in linereader:\n",
    "        trip_data.append(float(line[:-2]))\n"
   ]
  },
  {
   "cell_type": "code",
   "execution_count": 23,
   "metadata": {
    "scrolled": true
   },
   "outputs": [
    {
     "name": "stdout",
     "output_type": "stream",
     "text": [
      "[31.6222393, 32.8213763, 30.229101, 31.4137658, 39.0105503, 34.8220789, 39.8718836, 39.5799456, 31.0265867, 27.6624606, 18.875288, 46.231373, 30.015226, 47.60041, 16.5272666, 42.446233, 33.6252744, 42.2846255, 46.2052066, 30.8751739, 32.9480034, 26.1769151, 31.2569964, 35.3364455, 35.640725, 40.3229717, 38.0434858, 29.457979, 23.9163636, 34.5640352, 45.4278246, 38.9560775, 39.1139674, 39.6739875, 31.891481, 22.6237932, 26.189104, 43.5411421, 33.260738, 31.6760238, 37.1284625, 38.2204849, 34.3881418, 36.1140737, 44.0806481, 29.5991716, 37.0241175, 41.6057655, 44.3786052, 38.0647107, 22.9052645, 40.2718285, 31.5797923, 25.8803779, 28.891304, 44.3368792, 36.7894868, 43.4609887, 40.6555, 26.16634, 25.1388478, 33.0158145, 32.8705007, 26.2855715, 39.4493303, 36.2552861, 40.71913, 40.5718154, 19.8716641, 43.2192528, 31.4810282, 37.1491505, 38.9915, 20.5305938, 27.8044769, 38.6993329, 30.022314, 38.6488416, 26.4066888, 32.1022497, 28.3153275, 43.2619588, 40.36094, 37.302525, 31.4511018, 38.7959952, 36.9255337, 32.3716794, 23.2583563, 26.4261326, 48.7498765, 31.4251235, 46.8067929, 30.5974864, 20.792632, 26.1978522, 42.727409, 33.731469, 37.2385905, 36.3398414]\n"
     ]
    }
   ],
   "source": [
    "print(trip_data)"
   ]
  },
  {
   "cell_type": "code",
   "execution_count": 32,
   "metadata": {},
   "outputs": [
    {
     "name": "stdout",
     "output_type": "stream",
     "text": [
      "34.466160816 this is the average\n",
      "100 this is the count\n",
      "2.5666666666666655 This is the z-score\n"
     ]
    }
   ],
   "source": [
    "#old bus route mu = 36 min std = 6 min\n",
    "# z-score = (mu_pop - sample_pop) / (std / sqrt(pop)\n",
    "\n",
    "def average(my_list):\n",
    "    return sum(my_list) / len(my_list)\n",
    "\n",
    "print(average(trip_data), \"this is the average\")\n",
    "print(len(trip_data), \"this is the count\")\n",
    "\n",
    "def zscore(old_pop_mu,new_pop_mu,std,pop):\n",
    "    return (old_pop_mu - new_pop_mu) / (std / pop)\n",
    "\n",
    "print(zscore(36,34.46,6,10), \"This is the z-score\")"
   ]
  },
  {
   "cell_type": "code",
   "execution_count": null,
   "metadata": {},
   "outputs": [],
   "source": []
  }
 ],
 "metadata": {
  "kernelspec": {
   "display_name": "PUI2016_Python3",
   "language": "python",
   "name": "pui2016_python3"
  },
  "language_info": {
   "codemirror_mode": {
    "name": "ipython",
    "version": 3
   },
   "file_extension": ".py",
   "mimetype": "text/x-python",
   "name": "python",
   "nbconvert_exporter": "python",
   "pygments_lexer": "ipython3",
   "version": "3.5.4"
  }
 },
 "nbformat": 4,
 "nbformat_minor": 2
}
