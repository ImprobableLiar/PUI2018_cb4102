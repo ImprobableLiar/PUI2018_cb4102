{
 "cells": [
  {
   "cell_type": "markdown",
   "metadata": {},
   "source": [
    "### Idea: Testing to see if there is a relationship between the length of a citi bike ride and the time of day (whether it is night or day)\n",
    "\n",
    "### Null Hypothesis: Citi Bike rides at night time are longer duration than rides during the day time\n",
    "### Alternative Hypothesis: Citi Bike rides during the night are shorter or the same as rides during the day"
   ]
  },
  {
   "cell_type": "code",
   "execution_count": 1,
   "metadata": {},
   "outputs": [
    {
     "name": "stdout",
     "output_type": "stream",
     "text": [
      "Populating the interactive namespace from numpy and matplotlib\n"
     ]
    }
   ],
   "source": [
    "import pylab as pl\n",
    "import pandas as pd\n",
    "import numpy as np\n",
    "import os\n",
    "import json\n",
    "import scipy.stats\n",
    "%pylab inline"
   ]
  },
  {
   "cell_type": "code",
   "execution_count": 2,
   "metadata": {},
   "outputs": [],
   "source": [
    "os.environ[\"PUIDATA\"] = \"{}/PUIdata\".format(os.getenv(\"HOME\"))\n",
    "puidata = os.environ[\"PUIDATA\"]"
   ]
  },
  {
   "cell_type": "code",
   "execution_count": 3,
   "metadata": {},
   "outputs": [
    {
     "name": "stdout",
     "output_type": "stream",
     "text": [
      "  % Total    % Received % Xferd  Average Speed   Time    Time     Time  Current\n",
      "                                 Dload  Upload   Total   Spent    Left  Speed\n",
      "100 64.4M  100 64.4M    0     0  54.0M      0  0:00:01  0:00:01 --:--:-- 54.0M\n",
      "Archive:  201710-citibike-tripdata.csv.zip\n",
      "replace /nfshome/cb4102/PUIdata/201710-citibike-tripdata.csv? [y]es, [n]o, [A]ll, [N]one, [r]ename: ^C\n"
     ]
    }
   ],
   "source": [
    "!curl -O https://s3.amazonaws.com/tripdata/201710-citibike-tripdata.csv.zip\n",
    "\n",
    "!unzip 201710-citibike-tripdata.csv.zip -d $PUIDATA"
   ]
  },
  {
   "cell_type": "code",
   "execution_count": 4,
   "metadata": {},
   "outputs": [],
   "source": [
    "citi_1710 = pd.read_csv(os.getenv(\"PUIDATA\") + \"/\" + \"201710-citibike-tripdata.csv\")"
   ]
  },
  {
   "cell_type": "code",
   "execution_count": 5,
   "metadata": {},
   "outputs": [
    {
     "data": {
      "text/html": [
       "<div>\n",
       "<table border=\"1\" class=\"dataframe\">\n",
       "  <thead>\n",
       "    <tr style=\"text-align: right;\">\n",
       "      <th></th>\n",
       "      <th>tripduration</th>\n",
       "      <th>starttime</th>\n",
       "      <th>stoptime</th>\n",
       "      <th>start station id</th>\n",
       "      <th>start station name</th>\n",
       "      <th>start station latitude</th>\n",
       "      <th>start station longitude</th>\n",
       "      <th>end station id</th>\n",
       "      <th>end station name</th>\n",
       "      <th>end station latitude</th>\n",
       "      <th>end station longitude</th>\n",
       "      <th>bikeid</th>\n",
       "      <th>usertype</th>\n",
       "      <th>birth year</th>\n",
       "      <th>gender</th>\n",
       "    </tr>\n",
       "  </thead>\n",
       "  <tbody>\n",
       "    <tr>\n",
       "      <th>0</th>\n",
       "      <td>457</td>\n",
       "      <td>2017-10-01 00:00:00</td>\n",
       "      <td>2017-10-01 00:07:38</td>\n",
       "      <td>479</td>\n",
       "      <td>9 Ave &amp; W 45 St</td>\n",
       "      <td>40.760193</td>\n",
       "      <td>-73.991255</td>\n",
       "      <td>478</td>\n",
       "      <td>11 Ave &amp; W 41 St</td>\n",
       "      <td>40.760301</td>\n",
       "      <td>-73.998842</td>\n",
       "      <td>30951</td>\n",
       "      <td>Subscriber</td>\n",
       "      <td>1985.0</td>\n",
       "      <td>1</td>\n",
       "    </tr>\n",
       "    <tr>\n",
       "      <th>1</th>\n",
       "      <td>6462</td>\n",
       "      <td>2017-10-01 00:00:20</td>\n",
       "      <td>2017-10-01 01:48:03</td>\n",
       "      <td>279</td>\n",
       "      <td>Peck Slip &amp; Front St</td>\n",
       "      <td>40.707873</td>\n",
       "      <td>-74.001670</td>\n",
       "      <td>307</td>\n",
       "      <td>Canal St &amp; Rutgers St</td>\n",
       "      <td>40.714275</td>\n",
       "      <td>-73.989900</td>\n",
       "      <td>14809</td>\n",
       "      <td>Customer</td>\n",
       "      <td>NaN</td>\n",
       "      <td>0</td>\n",
       "    </tr>\n",
       "    <tr>\n",
       "      <th>2</th>\n",
       "      <td>761</td>\n",
       "      <td>2017-10-01 00:00:27</td>\n",
       "      <td>2017-10-01 00:13:09</td>\n",
       "      <td>504</td>\n",
       "      <td>1 Ave &amp; E 16 St</td>\n",
       "      <td>40.732219</td>\n",
       "      <td>-73.981656</td>\n",
       "      <td>350</td>\n",
       "      <td>Clinton St &amp; Grand St</td>\n",
       "      <td>40.715595</td>\n",
       "      <td>-73.987030</td>\n",
       "      <td>28713</td>\n",
       "      <td>Subscriber</td>\n",
       "      <td>1992.0</td>\n",
       "      <td>1</td>\n",
       "    </tr>\n",
       "    <tr>\n",
       "      <th>3</th>\n",
       "      <td>1193</td>\n",
       "      <td>2017-10-01 00:00:29</td>\n",
       "      <td>2017-10-01 00:20:22</td>\n",
       "      <td>3236</td>\n",
       "      <td>W 42 St &amp; Dyer Ave</td>\n",
       "      <td>40.758985</td>\n",
       "      <td>-73.993800</td>\n",
       "      <td>3233</td>\n",
       "      <td>E 48 St &amp; 5 Ave</td>\n",
       "      <td>40.757246</td>\n",
       "      <td>-73.978059</td>\n",
       "      <td>16008</td>\n",
       "      <td>Customer</td>\n",
       "      <td>1992.0</td>\n",
       "      <td>2</td>\n",
       "    </tr>\n",
       "    <tr>\n",
       "      <th>4</th>\n",
       "      <td>2772</td>\n",
       "      <td>2017-10-01 00:00:32</td>\n",
       "      <td>2017-10-01 00:46:44</td>\n",
       "      <td>2006</td>\n",
       "      <td>Central Park S &amp; 6 Ave</td>\n",
       "      <td>40.765909</td>\n",
       "      <td>-73.976342</td>\n",
       "      <td>469</td>\n",
       "      <td>Broadway &amp; W 53 St</td>\n",
       "      <td>40.763441</td>\n",
       "      <td>-73.982681</td>\n",
       "      <td>14556</td>\n",
       "      <td>Customer</td>\n",
       "      <td>NaN</td>\n",
       "      <td>0</td>\n",
       "    </tr>\n",
       "  </tbody>\n",
       "</table>\n",
       "</div>"
      ],
      "text/plain": [
       "   tripduration            starttime             stoptime  start station id  \\\n",
       "0           457  2017-10-01 00:00:00  2017-10-01 00:07:38               479   \n",
       "1          6462  2017-10-01 00:00:20  2017-10-01 01:48:03               279   \n",
       "2           761  2017-10-01 00:00:27  2017-10-01 00:13:09               504   \n",
       "3          1193  2017-10-01 00:00:29  2017-10-01 00:20:22              3236   \n",
       "4          2772  2017-10-01 00:00:32  2017-10-01 00:46:44              2006   \n",
       "\n",
       "       start station name  start station latitude  start station longitude  \\\n",
       "0         9 Ave & W 45 St               40.760193               -73.991255   \n",
       "1    Peck Slip & Front St               40.707873               -74.001670   \n",
       "2         1 Ave & E 16 St               40.732219               -73.981656   \n",
       "3      W 42 St & Dyer Ave               40.758985               -73.993800   \n",
       "4  Central Park S & 6 Ave               40.765909               -73.976342   \n",
       "\n",
       "   end station id       end station name  end station latitude  \\\n",
       "0             478       11 Ave & W 41 St             40.760301   \n",
       "1             307  Canal St & Rutgers St             40.714275   \n",
       "2             350  Clinton St & Grand St             40.715595   \n",
       "3            3233        E 48 St & 5 Ave             40.757246   \n",
       "4             469     Broadway & W 53 St             40.763441   \n",
       "\n",
       "   end station longitude  bikeid    usertype  birth year  gender  \n",
       "0             -73.998842   30951  Subscriber      1985.0       1  \n",
       "1             -73.989900   14809    Customer         NaN       0  \n",
       "2             -73.987030   28713  Subscriber      1992.0       1  \n",
       "3             -73.978059   16008    Customer      1992.0       2  \n",
       "4             -73.982681   14556    Customer         NaN       0  "
      ]
     },
     "execution_count": 5,
     "metadata": {},
     "output_type": "execute_result"
    }
   ],
   "source": [
    "citi_1710.head()"
   ]
  },
  {
   "cell_type": "code",
   "execution_count": 6,
   "metadata": {},
   "outputs": [],
   "source": [
    "citi_1710['date'] = pd.to_datetime(citi_1710[\"starttime\"])"
   ]
  },
  {
   "cell_type": "code",
   "execution_count": 7,
   "metadata": {},
   "outputs": [],
   "source": [
    "citi_1710['hour'] = pd.DatetimeIndex(citi_1710['starttime']).hour\n"
   ]
  },
  {
   "cell_type": "code",
   "execution_count": 12,
   "metadata": {},
   "outputs": [
    {
     "data": {
      "text/plain": [
       "Index(['tripduration', 'starttime', 'stoptime', 'start station id',\n",
       "       'start station name', 'start station latitude',\n",
       "       'start station longitude', 'end station id', 'end station name',\n",
       "       'end station latitude', 'end station longitude', 'bikeid', 'usertype',\n",
       "       'birth year', 'gender', 'date', 'hour'],\n",
       "      dtype='object')"
      ]
     },
     "execution_count": 12,
     "metadata": {},
     "output_type": "execute_result"
    }
   ],
   "source": [
    "citi_1710.columns"
   ]
  },
  {
   "cell_type": "code",
   "execution_count": 8,
   "metadata": {},
   "outputs": [],
   "source": [
    "# select only needed columns \n",
    "\n",
    "\n",
    "citi_1710_2 = citi_1710[['tripduration','starttime','start station longitude','start station longitude','usertype','birth year','gender','hour']]\n",
    "\n"
   ]
  },
  {
   "cell_type": "code",
   "execution_count": 9,
   "metadata": {},
   "outputs": [
    {
     "name": "stderr",
     "output_type": "stream",
     "text": [
      "/usr/local/Anaconda3-5.0.0-Linux-x86_64/envs/PUI2016_Python3/lib/python3.5/site-packages/ipykernel/__main__.py:10: SettingWithCopyWarning: \n",
      "A value is trying to be set on a copy of a slice from a DataFrame.\n",
      "Try using .loc[row_indexer,col_indexer] = value instead\n",
      "\n",
      "See the caveats in the documentation: http://pandas.pydata.org/pandas-docs/stable/indexing.html#indexing-view-versus-copy\n"
     ]
    }
   ],
   "source": [
    "def night_day_label(row):\n",
    "    \"\"\"Function to set up a column based on conditions\"\"\"\n",
    "    if row['hour'] < 5:\n",
    "        return 1\n",
    "    if row['hour'] >= 20:\n",
    "        return 1\n",
    "    else:\n",
    "        return 0\n",
    "\n",
    "citi_1710_2['night_flag'] = citi_1710_2.apply(lambda row: night_day_label(row),axis=1) #apply night_day_label"
   ]
  },
  {
   "cell_type": "code",
   "execution_count": 10,
   "metadata": {},
   "outputs": [],
   "source": [
    "citi_night = citi_1710_2[citi_1710_2['night_flag'] == 1] #create data frame for night time data \n",
    "citi_day = citi_1710_2[citi_1710_2['night_flag'] == 0] #create data frame for day time data"
   ]
  },
  {
   "cell_type": "code",
   "execution_count": 11,
   "metadata": {},
   "outputs": [
    {
     "data": {
      "text/html": [
       "<div>\n",
       "<table border=\"1\" class=\"dataframe\">\n",
       "  <thead>\n",
       "    <tr style=\"text-align: right;\">\n",
       "      <th></th>\n",
       "      <th>tripduration</th>\n",
       "      <th>starttime</th>\n",
       "      <th>start station longitude</th>\n",
       "      <th>start station longitude</th>\n",
       "      <th>usertype</th>\n",
       "      <th>birth year</th>\n",
       "      <th>gender</th>\n",
       "      <th>hour</th>\n",
       "      <th>night_flag</th>\n",
       "    </tr>\n",
       "  </thead>\n",
       "  <tbody>\n",
       "    <tr>\n",
       "      <th>0</th>\n",
       "      <td>457</td>\n",
       "      <td>2017-10-01 00:00:00</td>\n",
       "      <td>-73.991255</td>\n",
       "      <td>-73.991255</td>\n",
       "      <td>Subscriber</td>\n",
       "      <td>1985.0</td>\n",
       "      <td>1</td>\n",
       "      <td>0</td>\n",
       "      <td>1</td>\n",
       "    </tr>\n",
       "    <tr>\n",
       "      <th>1</th>\n",
       "      <td>6462</td>\n",
       "      <td>2017-10-01 00:00:20</td>\n",
       "      <td>-74.001670</td>\n",
       "      <td>-74.001670</td>\n",
       "      <td>Customer</td>\n",
       "      <td>NaN</td>\n",
       "      <td>0</td>\n",
       "      <td>0</td>\n",
       "      <td>1</td>\n",
       "    </tr>\n",
       "    <tr>\n",
       "      <th>2</th>\n",
       "      <td>761</td>\n",
       "      <td>2017-10-01 00:00:27</td>\n",
       "      <td>-73.981656</td>\n",
       "      <td>-73.981656</td>\n",
       "      <td>Subscriber</td>\n",
       "      <td>1992.0</td>\n",
       "      <td>1</td>\n",
       "      <td>0</td>\n",
       "      <td>1</td>\n",
       "    </tr>\n",
       "    <tr>\n",
       "      <th>3</th>\n",
       "      <td>1193</td>\n",
       "      <td>2017-10-01 00:00:29</td>\n",
       "      <td>-73.993800</td>\n",
       "      <td>-73.993800</td>\n",
       "      <td>Customer</td>\n",
       "      <td>1992.0</td>\n",
       "      <td>2</td>\n",
       "      <td>0</td>\n",
       "      <td>1</td>\n",
       "    </tr>\n",
       "    <tr>\n",
       "      <th>4</th>\n",
       "      <td>2772</td>\n",
       "      <td>2017-10-01 00:00:32</td>\n",
       "      <td>-73.976342</td>\n",
       "      <td>-73.976342</td>\n",
       "      <td>Customer</td>\n",
       "      <td>NaN</td>\n",
       "      <td>0</td>\n",
       "      <td>0</td>\n",
       "      <td>1</td>\n",
       "    </tr>\n",
       "  </tbody>\n",
       "</table>\n",
       "</div>"
      ],
      "text/plain": [
       "   tripduration            starttime  start station longitude  \\\n",
       "0           457  2017-10-01 00:00:00               -73.991255   \n",
       "1          6462  2017-10-01 00:00:20               -74.001670   \n",
       "2           761  2017-10-01 00:00:27               -73.981656   \n",
       "3          1193  2017-10-01 00:00:29               -73.993800   \n",
       "4          2772  2017-10-01 00:00:32               -73.976342   \n",
       "\n",
       "   start station longitude    usertype  birth year  gender  hour  night_flag  \n",
       "0               -73.991255  Subscriber      1985.0       1     0           1  \n",
       "1               -74.001670    Customer         NaN       0     0           1  \n",
       "2               -73.981656  Subscriber      1992.0       1     0           1  \n",
       "3               -73.993800    Customer      1992.0       2     0           1  \n",
       "4               -73.976342    Customer         NaN       0     0           1  "
      ]
     },
     "execution_count": 11,
     "metadata": {},
     "output_type": "execute_result"
    }
   ],
   "source": [
    "citi_night.head()"
   ]
  },
  {
   "cell_type": "code",
   "execution_count": 12,
   "metadata": {
    "scrolled": true
   },
   "outputs": [
    {
     "data": {
      "text/html": [
       "<div>\n",
       "<table border=\"1\" class=\"dataframe\">\n",
       "  <thead>\n",
       "    <tr style=\"text-align: right;\">\n",
       "      <th></th>\n",
       "      <th>tripduration</th>\n",
       "      <th>starttime</th>\n",
       "      <th>start station longitude</th>\n",
       "      <th>start station longitude</th>\n",
       "      <th>usertype</th>\n",
       "      <th>birth year</th>\n",
       "      <th>gender</th>\n",
       "      <th>hour</th>\n",
       "      <th>night_flag</th>\n",
       "    </tr>\n",
       "  </thead>\n",
       "  <tbody>\n",
       "    <tr>\n",
       "      <th>1808</th>\n",
       "      <td>183</td>\n",
       "      <td>2017-10-01 05:00:33</td>\n",
       "      <td>-73.998842</td>\n",
       "      <td>-73.998842</td>\n",
       "      <td>Subscriber</td>\n",
       "      <td>1978.0</td>\n",
       "      <td>1</td>\n",
       "      <td>5</td>\n",
       "      <td>0</td>\n",
       "    </tr>\n",
       "    <tr>\n",
       "      <th>1809</th>\n",
       "      <td>220</td>\n",
       "      <td>2017-10-01 05:05:05</td>\n",
       "      <td>-73.999234</td>\n",
       "      <td>-73.999234</td>\n",
       "      <td>Subscriber</td>\n",
       "      <td>1993.0</td>\n",
       "      <td>1</td>\n",
       "      <td>5</td>\n",
       "      <td>0</td>\n",
       "    </tr>\n",
       "    <tr>\n",
       "      <th>1810</th>\n",
       "      <td>340</td>\n",
       "      <td>2017-10-01 05:06:13</td>\n",
       "      <td>-74.002116</td>\n",
       "      <td>-74.002116</td>\n",
       "      <td>Subscriber</td>\n",
       "      <td>1976.0</td>\n",
       "      <td>1</td>\n",
       "      <td>5</td>\n",
       "      <td>0</td>\n",
       "    </tr>\n",
       "    <tr>\n",
       "      <th>1811</th>\n",
       "      <td>1130</td>\n",
       "      <td>2017-10-01 05:07:16</td>\n",
       "      <td>-73.983035</td>\n",
       "      <td>-73.983035</td>\n",
       "      <td>Subscriber</td>\n",
       "      <td>1977.0</td>\n",
       "      <td>1</td>\n",
       "      <td>5</td>\n",
       "      <td>0</td>\n",
       "    </tr>\n",
       "    <tr>\n",
       "      <th>1812</th>\n",
       "      <td>258</td>\n",
       "      <td>2017-10-01 05:07:46</td>\n",
       "      <td>-73.947084</td>\n",
       "      <td>-73.947084</td>\n",
       "      <td>Subscriber</td>\n",
       "      <td>1987.0</td>\n",
       "      <td>1</td>\n",
       "      <td>5</td>\n",
       "      <td>0</td>\n",
       "    </tr>\n",
       "  </tbody>\n",
       "</table>\n",
       "</div>"
      ],
      "text/plain": [
       "      tripduration            starttime  start station longitude  \\\n",
       "1808           183  2017-10-01 05:00:33               -73.998842   \n",
       "1809           220  2017-10-01 05:05:05               -73.999234   \n",
       "1810           340  2017-10-01 05:06:13               -74.002116   \n",
       "1811          1130  2017-10-01 05:07:16               -73.983035   \n",
       "1812           258  2017-10-01 05:07:46               -73.947084   \n",
       "\n",
       "      start station longitude    usertype  birth year  gender  hour  \\\n",
       "1808               -73.998842  Subscriber      1978.0       1     5   \n",
       "1809               -73.999234  Subscriber      1993.0       1     5   \n",
       "1810               -74.002116  Subscriber      1976.0       1     5   \n",
       "1811               -73.983035  Subscriber      1977.0       1     5   \n",
       "1812               -73.947084  Subscriber      1987.0       1     5   \n",
       "\n",
       "      night_flag  \n",
       "1808           0  \n",
       "1809           0  \n",
       "1810           0  \n",
       "1811           0  \n",
       "1812           0  "
      ]
     },
     "execution_count": 12,
     "metadata": {},
     "output_type": "execute_result"
    }
   ],
   "source": [
    "citi_day.head()"
   ]
  },
  {
   "cell_type": "code",
   "execution_count": 13,
   "metadata": {},
   "outputs": [
    {
     "name": "stdout",
     "output_type": "stream",
     "text": [
      "Ks_2sampResult(statistic=0.04472519943096126, pvalue=0.0)\n"
     ]
    }
   ],
   "source": [
    "ks = scipy.stats.ks_2samp(citi_day['tripduration'], citi_night['tripduration'])\n",
    "print(ks)"
   ]
  },
  {
   "cell_type": "code",
   "execution_count": 25,
   "metadata": {},
   "outputs": [],
   "source": [
    "# The KS is a two sided test that tests whether 2 samples are drawn from the same distribution\n",
    "# In this case, the null hypothesis is that the distribution of trip duration are the same for day and night time rides\n",
    "\n",
    "#Because the p-value is approaching zero so can reject the null hypothesis that the distributions are the same, \n",
    "# i.e. would have a similar distribution \n"
   ]
  },
  {
   "cell_type": "code",
   "execution_count": 15,
   "metadata": {},
   "outputs": [],
   "source": [
    "# Now we test on a subset of the data frame.\n",
    "\n",
    "citi_day_sample = citi_day.sample(n=40000, random_state=1)\n",
    "citi_night_sample = citi_night.sample(n=40000, random_state=1)"
   ]
  },
  {
   "cell_type": "code",
   "execution_count": 17,
   "metadata": {},
   "outputs": [
    {
     "name": "stdout",
     "output_type": "stream",
     "text": [
      "Ks_2sampResult(statistic=0.044250000000000012, pvalue=1.6899585113796641e-34)\n"
     ]
    }
   ],
   "source": [
    "#retest the KS statistic on a random sample of data\n",
    "\n",
    "ks1 = scipy.stats.ks_2samp(citi_day_sample['tripduration'], citi_night_sample['tripduration'])\n",
    "print(ks1)\n",
    "\n",
    "#Given the p-value we would reject the null hypothesis on the same of "
   ]
  },
  {
   "cell_type": "code",
   "execution_count": 20,
   "metadata": {},
   "outputs": [
    {
     "name": "stdout",
     "output_type": "stream",
     "text": [
      "the pearson correlation is: (0.97974306964365243, 0.0)\n"
     ]
    }
   ],
   "source": [
    "# test the pearson correlation on the sub-sample of data \n",
    "\n",
    "# The pearson correlation measures the linear relationship between x and y and assumes and underlying normal distribution. \n",
    "# When comparing trip duration between the day and night samples using the pearson correlation a strong correlation will imply\n",
    "# the two samples share a similar underlying distribution.\n",
    "\n",
    "#the null hypothesis: Trip durations during the day and night have a different distribution\n",
    "#alternative hypothesis: Trip durations during the day and night have a similar distribution\n",
    "\n",
    "#a high correlation and a a statistically significant p-value would allow us to reject the null hypothesis, as well as measure the strength of the linear relationship\n",
    "#which would imply both underlying distributions are normal.\n",
    "\n",
    "pearson2 = scipy.stats.pearsonr(citi_day_sample['tripduration'].sort_values(), citi_night_sample['tripduration'].sort_values())\n",
    "print(\"the pearson correlation is:\", pearson2)\n",
    "\n",
    "#given the high correlation and significant p-value, we can reject the null hypothesis."
   ]
  },
  {
   "cell_type": "code",
   "execution_count": 22,
   "metadata": {},
   "outputs": [
    {
     "name": "stdout",
     "output_type": "stream",
     "text": [
      "SpearmanrResult(correlation=0.99999930268280213, pvalue=0.0)\n"
     ]
    }
   ],
   "source": [
    "# Test the Spearman's test for correlation\n",
    "\n",
    "#spearman's correlation coefficient tests for monotonic relationships between x and y, i.e. it tests whether as x increases does y increase (or decrease).\n",
    "#It does not test whether the relationship is linear or not and it does not test for the strength of the pearson coefficient.\n",
    "\n",
    "#the null hypothesis: Trip durations during the day and night have a different distribution\n",
    "#alternative hypothesis: Trip durations during the day and night have a similar distribution\n",
    "\n",
    "#A strong spearmean correlation and significant p-value would tell us that our underlying samples have a similar distribution.\n",
    "\n",
    "spearman1 = scipy.stats.spearmanr(citi_day_sample['tripduration'].sort_values(), citi_night_sample['tripduration'].sort_values())\n",
    "print(spearman1)\n",
    "\n",
    "#given the high correlation and significant p-value, we can reject the null hypothesis."
   ]
  },
  {
   "cell_type": "code",
   "execution_count": null,
   "metadata": {},
   "outputs": [],
   "source": []
  }
 ],
 "metadata": {
  "kernelspec": {
   "display_name": "PUI2016_Python3",
   "language": "python",
   "name": "pui2016_python3"
  },
  "language_info": {
   "codemirror_mode": {
    "name": "ipython",
    "version": 3
   },
   "file_extension": ".py",
   "mimetype": "text/x-python",
   "name": "python",
   "nbconvert_exporter": "python",
   "pygments_lexer": "ipython3",
   "version": "3.5.4"
  }
 },
 "nbformat": 4,
 "nbformat_minor": 2
}
