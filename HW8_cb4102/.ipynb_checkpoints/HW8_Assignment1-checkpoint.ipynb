{
 "cells": [
  {
   "cell_type": "code",
   "execution_count": 1,
   "metadata": {},
   "outputs": [
    {
     "name": "stdout",
     "output_type": "stream",
     "text": [
      "Populating the interactive namespace from numpy and matplotlib\n"
     ]
    }
   ],
   "source": [
    "import pandas as pd\n",
    "import matplotlib.pyplot as plt\n",
    "#import matplotlib.style as style\n",
    "import numpy as np\n",
    "\n",
    "import os\n",
    "\n",
    "%pylab inline"
   ]
  },
  {
   "cell_type": "code",
   "execution_count": 27,
   "metadata": {
    "scrolled": true
   },
   "outputs": [
    {
     "data": {
      "text/plain": [
       "['seaborn-notebook',\n",
       " 'seaborn-paper',\n",
       " 'seaborn-bright',\n",
       " 'seaborn-colorblind',\n",
       " 'seaborn-pastel',\n",
       " 'seaborn-dark-palette',\n",
       " 'seaborn-whitegrid',\n",
       " 'seaborn-deep',\n",
       " '_classic_test',\n",
       " 'seaborn-poster',\n",
       " 'grayscale',\n",
       " 'seaborn-darkgrid',\n",
       " 'seaborn-muted',\n",
       " 'ggplot',\n",
       " 'seaborn',\n",
       " 'seaborn-talk',\n",
       " 'seaborn-white',\n",
       " 'bmh',\n",
       " 'seaborn-ticks',\n",
       " 'fast',\n",
       " 'Solarize_Light2',\n",
       " 'seaborn-dark',\n",
       " 'dark_background',\n",
       " 'fivethirtyeight',\n",
       " 'classic']"
      ]
     },
     "execution_count": 27,
     "metadata": {},
     "output_type": "execute_result"
    }
   ],
   "source": [
    "style.available"
   ]
  },
  {
   "cell_type": "code",
   "execution_count": 2,
   "metadata": {},
   "outputs": [],
   "source": [
    "url = 'https://www.toronto.ca/ext/open_data/catalog/data_set_files/Bus_2018.xlsx'"
   ]
  },
  {
   "cell_type": "code",
   "execution_count": 7,
   "metadata": {},
   "outputs": [],
   "source": [
    "jan_delays = pd.read_excel(url)"
   ]
  },
  {
   "cell_type": "code",
   "execution_count": 8,
   "metadata": {},
   "outputs": [
    {
     "data": {
      "text/html": [
       "<div>\n",
       "<table border=\"1\" class=\"dataframe\">\n",
       "  <thead>\n",
       "    <tr style=\"text-align: right;\">\n",
       "      <th></th>\n",
       "      <th>Report Date</th>\n",
       "      <th>Route</th>\n",
       "      <th>Time</th>\n",
       "      <th>Day</th>\n",
       "      <th>Location</th>\n",
       "      <th>Incident</th>\n",
       "      <th>Min Delay</th>\n",
       "      <th>Min Gap</th>\n",
       "      <th>Direction</th>\n",
       "      <th>Vehicle</th>\n",
       "    </tr>\n",
       "  </thead>\n",
       "  <tbody>\n",
       "    <tr>\n",
       "      <th>0</th>\n",
       "      <td>2018-01-01</td>\n",
       "      <td>165</td>\n",
       "      <td>00:17:00</td>\n",
       "      <td>Monday</td>\n",
       "      <td>Wilson Stn</td>\n",
       "      <td>Mechanical</td>\n",
       "      <td>10.0</td>\n",
       "      <td>20.0</td>\n",
       "      <td>W/B</td>\n",
       "      <td>1291.0</td>\n",
       "    </tr>\n",
       "    <tr>\n",
       "      <th>1</th>\n",
       "      <td>2018-01-01</td>\n",
       "      <td>706</td>\n",
       "      <td>00:20:00</td>\n",
       "      <td>Monday</td>\n",
       "      <td>Birchmount Garage</td>\n",
       "      <td>Utilized Off Route</td>\n",
       "      <td>1.0</td>\n",
       "      <td>1.0</td>\n",
       "      <td>S/B</td>\n",
       "      <td>8123.0</td>\n",
       "    </tr>\n",
       "    <tr>\n",
       "      <th>2</th>\n",
       "      <td>2018-01-01</td>\n",
       "      <td>28</td>\n",
       "      <td>00:30:00</td>\n",
       "      <td>Monday</td>\n",
       "      <td>Davisville Station</td>\n",
       "      <td>Investigation</td>\n",
       "      <td>30.0</td>\n",
       "      <td>60.0</td>\n",
       "      <td>S/B</td>\n",
       "      <td>8306.0</td>\n",
       "    </tr>\n",
       "    <tr>\n",
       "      <th>3</th>\n",
       "      <td>2018-01-01</td>\n",
       "      <td>12</td>\n",
       "      <td>00:55:00</td>\n",
       "      <td>Monday</td>\n",
       "      <td>Kennedy Station</td>\n",
       "      <td>Mechanical</td>\n",
       "      <td>22.0</td>\n",
       "      <td>44.0</td>\n",
       "      <td>S/B</td>\n",
       "      <td>7777.0</td>\n",
       "    </tr>\n",
       "    <tr>\n",
       "      <th>4</th>\n",
       "      <td>2018-01-01</td>\n",
       "      <td>72</td>\n",
       "      <td>00:55:00</td>\n",
       "      <td>Monday</td>\n",
       "      <td>Pape Station</td>\n",
       "      <td>Mechanical</td>\n",
       "      <td>18.0</td>\n",
       "      <td>36.0</td>\n",
       "      <td>NaN</td>\n",
       "      <td>7787.0</td>\n",
       "    </tr>\n",
       "  </tbody>\n",
       "</table>\n",
       "</div>"
      ],
      "text/plain": [
       "  Report Date  Route      Time     Day            Location  \\\n",
       "0  2018-01-01    165  00:17:00  Monday          Wilson Stn   \n",
       "1  2018-01-01    706  00:20:00  Monday   Birchmount Garage   \n",
       "2  2018-01-01     28  00:30:00  Monday  Davisville Station   \n",
       "3  2018-01-01     12  00:55:00  Monday     Kennedy Station   \n",
       "4  2018-01-01     72  00:55:00  Monday        Pape Station   \n",
       "\n",
       "             Incident  Min Delay  Min Gap Direction  Vehicle  \n",
       "0          Mechanical       10.0     20.0       W/B   1291.0  \n",
       "1  Utilized Off Route        1.0      1.0       S/B   8123.0  \n",
       "2       Investigation       30.0     60.0       S/B   8306.0  \n",
       "3          Mechanical       22.0     44.0       S/B   7777.0  \n",
       "4          Mechanical       18.0     36.0       NaN   7787.0  "
      ]
     },
     "execution_count": 8,
     "metadata": {},
     "output_type": "execute_result"
    }
   ],
   "source": [
    "jan_delays.head()"
   ]
  },
  {
   "cell_type": "code",
   "execution_count": 9,
   "metadata": {},
   "outputs": [],
   "source": [
    "jan_delays = jan_delays[jan_delays['Min Delay'] < 61]"
   ]
  },
  {
   "cell_type": "code",
   "execution_count": 10,
   "metadata": {},
   "outputs": [
    {
     "name": "stdout",
     "output_type": "stream",
     "text": [
      "mean = 11.4042243263 std= 7.95470200682\n"
     ]
    }
   ],
   "source": [
    "print('mean =', jan_delays['Min Delay'].mean(),'std=',jan_delays['Min Delay'].std())"
   ]
  },
  {
   "cell_type": "code",
   "execution_count": 11,
   "metadata": {},
   "outputs": [],
   "source": [
    "CY = np.cumsum(jan_delays['Min Delay'])"
   ]
  },
  {
   "cell_type": "code",
   "execution_count": 17,
   "metadata": {},
   "outputs": [
    {
     "data": {
      "image/png": "[encoded data removed]",
      "text/plain": [
       "<matplotlib.figure.Figure at 0x7fb7e9d36940>"
      ]
     },
     "metadata": {},
     "output_type": "display_data"
    }
   ],
   "source": [
    "fig = plt.figure(figsize=(10,10)) #initialize figure\n",
    "ax1 = fig.add_subplot(111) #initialize subplot\n",
    "\n",
    "#style.use('seaborn-deep')\n",
    "\n",
    "ax1.hist(jan_delays['Min Delay'], bins=20, alpha=0.7, color='grey',label='# of Buses') #plot the histogram \n",
    "\n",
    "ax1.set_xlabel(\"Number of Minutes Lates (minutes)\") #x label added\n",
    "ax1.set_ylabel(\"Number of Buses (#)\") #add Y label\n",
    "ax1.text(-2, 1400, r'$\\mu=11.4,\\ \\sigma=7.95$')\n",
    "ax1.grid(False)\n",
    "ax1.plot(np.nan, '-r', label = 'CDF of Late Buses')\n",
    "ax1.legend(loc='lower right',title='Legend')\n",
    "\n",
    "\n",
    "ax2 = ax1.twinx()  # instantiate a second axes that shares the same x-axis\n",
    "\n",
    "counts, bin_edges = np.histogram(jan_delays['Min Delay'], bins=20, normed=True)\n",
    "cdf = np.cumsum(counts)\n",
    "ax2.plot(bin_edges[1:], cdf/cdf[-1] * 100, color='red')\n",
    "ax2.set_ylabel('Cumulative Distribution Function (%)')  # we already handled the x-label with ax1\n",
    "ax2.tick_params(axis='y')\n",
    "ax2.set_xlim((-5,62))\n",
    "#ax2.legend('CDF of Late Buses',loc='lower right')\n",
    "\n",
    "plt.title(\"Figure 2: Distribution of Late Buses in Toronto by Number of Minutes, January 2018\")\n",
    "plt.savefig('HW8_figure1.png')"
   ]
  },
  {
   "cell_type": "markdown",
   "metadata": {},
   "source": [
    "#### Data: Bus Delay Data from January 2018; Source: Toronto Open Data, Toronto Transit Commission"
   ]
  }
 ],
 "metadata": {
  "kernelspec": {
   "display_name": "PUI2016_Python3",
   "language": "python",
   "name": "pui2016_python3"
  },
  "language_info": {
   "codemirror_mode": {
    "name": "ipython",
    "version": 3
   },
   "file_extension": ".py",
   "mimetype": "text/x-python",
   "name": "python",
   "nbconvert_exporter": "python",
   "pygments_lexer": "ipython3",
   "version": "3.5.4"
  }
 },
 "nbformat": 4,
 "nbformat_minor": 2
}
