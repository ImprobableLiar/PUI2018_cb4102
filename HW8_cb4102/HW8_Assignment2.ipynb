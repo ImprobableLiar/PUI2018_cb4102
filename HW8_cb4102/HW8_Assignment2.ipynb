{
 "cells": [
  {
   "cell_type": "code",
   "execution_count": 1,
   "metadata": {},
   "outputs": [
    {
     "name": "stdout",
     "output_type": "stream",
     "text": [
      "Populating the interactive namespace from numpy and matplotlib\n"
     ]
    }
   ],
   "source": [
    "import pylab as pl\n",
    "import pandas as pd\n",
    "import numpy as np\n",
    "import os\n",
    "import json\n",
    "%pylab inline"
   ]
  },
  {
   "cell_type": "code",
   "execution_count": 4,
   "metadata": {},
   "outputs": [],
   "source": [
    "os.environ[\"PUIDATA\"] = \"{}/PUIdata\".format(os.getenv(\"HOME\"))\n",
    "puidata = os.environ[\"PUIDATA\"]"
   ]
  },
  {
   "cell_type": "code",
   "execution_count": 3,
   "metadata": {},
   "outputs": [
    {
     "name": "stdout",
     "output_type": "stream",
     "text": [
      "  % Total    % Received % Xferd  Average Speed   Time    Time     Time  Current\n",
      "                                 Dload  Upload   Total   Spent    Left  Speed\n",
      "100 45.5M  100 45.5M    0     0  71.9M      0 --:--:-- --:--:-- --:--:-- 71.9M\n",
      "Archive:  201711-citibike-tripdata.csv.zip\n",
      "  inflating: /nfshome/cb4102/PUIdata/201711-citibike-tripdata.csv  \n"
     ]
    }
   ],
   "source": [
    "!curl -O https://s3.amazonaws.com/tripdata/201711-citibike-tripdata.csv.zip\n",
    "\n",
    "!unzip 201711-citibike-tripdata.csv.zip -d $PUIDATA"
   ]
  },
  {
   "cell_type": "code",
   "execution_count": 2,
   "metadata": {},
   "outputs": [],
   "source": [
    "citibike = pd.read_csv(os.getenv(\"PUIDATA\") + \"/\" + \"201711-citibike-tripdata.csv\")"
   ]
  },
  {
   "cell_type": "code",
   "execution_count": 7,
   "metadata": {},
   "outputs": [
    {
     "data": {
      "text/html": [
       "<div>\n",
       "<table border=\"1\" class=\"dataframe\">\n",
       "  <thead>\n",
       "    <tr style=\"text-align: right;\">\n",
       "      <th></th>\n",
       "      <th>tripduration</th>\n",
       "      <th>starttime</th>\n",
       "      <th>stoptime</th>\n",
       "      <th>start station id</th>\n",
       "      <th>start station name</th>\n",
       "      <th>start station latitude</th>\n",
       "      <th>start station longitude</th>\n",
       "      <th>end station id</th>\n",
       "      <th>end station name</th>\n",
       "      <th>end station latitude</th>\n",
       "      <th>end station longitude</th>\n",
       "      <th>bikeid</th>\n",
       "      <th>usertype</th>\n",
       "      <th>birth year</th>\n",
       "      <th>gender</th>\n",
       "    </tr>\n",
       "  </thead>\n",
       "  <tbody>\n",
       "    <tr>\n",
       "      <th>0</th>\n",
       "      <td>297</td>\n",
       "      <td>2017-11-01 00:00:01</td>\n",
       "      <td>2017-11-01 00:04:59</td>\n",
       "      <td>418</td>\n",
       "      <td>Front St &amp; Gold St</td>\n",
       "      <td>40.702240</td>\n",
       "      <td>-73.982578</td>\n",
       "      <td>414</td>\n",
       "      <td>Pearl St &amp; Anchorage Pl</td>\n",
       "      <td>40.702819</td>\n",
       "      <td>-73.987658</td>\n",
       "      <td>24753</td>\n",
       "      <td>Subscriber</td>\n",
       "      <td>1986.0</td>\n",
       "      <td>1</td>\n",
       "    </tr>\n",
       "    <tr>\n",
       "      <th>1</th>\n",
       "      <td>269</td>\n",
       "      <td>2017-11-01 00:00:01</td>\n",
       "      <td>2017-11-01 00:04:30</td>\n",
       "      <td>3556</td>\n",
       "      <td>24 St &amp; 41 Ave</td>\n",
       "      <td>40.752709</td>\n",
       "      <td>-73.939740</td>\n",
       "      <td>3126</td>\n",
       "      <td>44 Dr &amp; Jackson Ave</td>\n",
       "      <td>40.747182</td>\n",
       "      <td>-73.943264</td>\n",
       "      <td>19063</td>\n",
       "      <td>Subscriber</td>\n",
       "      <td>1990.0</td>\n",
       "      <td>1</td>\n",
       "    </tr>\n",
       "    <tr>\n",
       "      <th>2</th>\n",
       "      <td>285</td>\n",
       "      <td>2017-11-01 00:00:04</td>\n",
       "      <td>2017-11-01 00:04:50</td>\n",
       "      <td>275</td>\n",
       "      <td>Washington Ave &amp; Greene Ave</td>\n",
       "      <td>40.686501</td>\n",
       "      <td>-73.965633</td>\n",
       "      <td>3429</td>\n",
       "      <td>Hanson Pl &amp; Ashland Pl</td>\n",
       "      <td>40.685068</td>\n",
       "      <td>-73.977908</td>\n",
       "      <td>29131</td>\n",
       "      <td>Subscriber</td>\n",
       "      <td>1993.0</td>\n",
       "      <td>1</td>\n",
       "    </tr>\n",
       "    <tr>\n",
       "      <th>3</th>\n",
       "      <td>478</td>\n",
       "      <td>2017-11-01 00:00:13</td>\n",
       "      <td>2017-11-01 00:08:11</td>\n",
       "      <td>3545</td>\n",
       "      <td>Broadway &amp; W 122 St</td>\n",
       "      <td>40.812056</td>\n",
       "      <td>-73.961255</td>\n",
       "      <td>3316</td>\n",
       "      <td>W 104 St &amp; Amsterdam Ave</td>\n",
       "      <td>40.798994</td>\n",
       "      <td>-73.966217</td>\n",
       "      <td>32841</td>\n",
       "      <td>Customer</td>\n",
       "      <td>NaN</td>\n",
       "      <td>0</td>\n",
       "    </tr>\n",
       "    <tr>\n",
       "      <th>4</th>\n",
       "      <td>574</td>\n",
       "      <td>2017-11-01 00:00:20</td>\n",
       "      <td>2017-11-01 00:09:54</td>\n",
       "      <td>458</td>\n",
       "      <td>11 Ave &amp; W 27 St</td>\n",
       "      <td>40.751396</td>\n",
       "      <td>-74.005226</td>\n",
       "      <td>434</td>\n",
       "      <td>9 Ave &amp; W 18 St</td>\n",
       "      <td>40.743174</td>\n",
       "      <td>-74.003664</td>\n",
       "      <td>17697</td>\n",
       "      <td>Subscriber</td>\n",
       "      <td>1975.0</td>\n",
       "      <td>2</td>\n",
       "    </tr>\n",
       "  </tbody>\n",
       "</table>\n",
       "</div>"
      ],
      "text/plain": [
       "   tripduration            starttime             stoptime  start station id  \\\n",
       "0           297  2017-11-01 00:00:01  2017-11-01 00:04:59               418   \n",
       "1           269  2017-11-01 00:00:01  2017-11-01 00:04:30              3556   \n",
       "2           285  2017-11-01 00:00:04  2017-11-01 00:04:50               275   \n",
       "3           478  2017-11-01 00:00:13  2017-11-01 00:08:11              3545   \n",
       "4           574  2017-11-01 00:00:20  2017-11-01 00:09:54               458   \n",
       "\n",
       "            start station name  start station latitude  \\\n",
       "0           Front St & Gold St               40.702240   \n",
       "1               24 St & 41 Ave               40.752709   \n",
       "2  Washington Ave & Greene Ave               40.686501   \n",
       "3          Broadway & W 122 St               40.812056   \n",
       "4             11 Ave & W 27 St               40.751396   \n",
       "\n",
       "   start station longitude  end station id          end station name  \\\n",
       "0               -73.982578             414   Pearl St & Anchorage Pl   \n",
       "1               -73.939740            3126       44 Dr & Jackson Ave   \n",
       "2               -73.965633            3429    Hanson Pl & Ashland Pl   \n",
       "3               -73.961255            3316  W 104 St & Amsterdam Ave   \n",
       "4               -74.005226             434           9 Ave & W 18 St   \n",
       "\n",
       "   end station latitude  end station longitude  bikeid    usertype  \\\n",
       "0             40.702819             -73.987658   24753  Subscriber   \n",
       "1             40.747182             -73.943264   19063  Subscriber   \n",
       "2             40.685068             -73.977908   29131  Subscriber   \n",
       "3             40.798994             -73.966217   32841    Customer   \n",
       "4             40.743174             -74.003664   17697  Subscriber   \n",
       "\n",
       "   birth year  gender  \n",
       "0      1986.0       1  \n",
       "1      1990.0       1  \n",
       "2      1993.0       1  \n",
       "3         NaN       0  \n",
       "4      1975.0       2  "
      ]
     },
     "execution_count": 7,
     "metadata": {},
     "output_type": "execute_result"
    }
   ],
   "source": [
    "citibike.head()"
   ]
  },
  {
   "cell_type": "code",
   "execution_count": 3,
   "metadata": {},
   "outputs": [],
   "source": [
    "citibike['date'] = pd.to_datetime(citibike[\"starttime\"])"
   ]
  },
  {
   "cell_type": "code",
   "execution_count": 4,
   "metadata": {},
   "outputs": [],
   "source": [
    "citibike['hour'] = pd.DatetimeIndex(citibike['starttime']).hour"
   ]
  },
  {
   "cell_type": "code",
   "execution_count": 10,
   "metadata": {},
   "outputs": [
    {
     "data": {
      "text/html": [
       "<div>\n",
       "<table border=\"1\" class=\"dataframe\">\n",
       "  <thead>\n",
       "    <tr style=\"text-align: right;\">\n",
       "      <th></th>\n",
       "      <th>tripduration</th>\n",
       "      <th>starttime</th>\n",
       "      <th>stoptime</th>\n",
       "      <th>start station id</th>\n",
       "      <th>start station name</th>\n",
       "      <th>start station latitude</th>\n",
       "      <th>start station longitude</th>\n",
       "      <th>end station id</th>\n",
       "      <th>end station name</th>\n",
       "      <th>end station latitude</th>\n",
       "      <th>end station longitude</th>\n",
       "      <th>bikeid</th>\n",
       "      <th>usertype</th>\n",
       "      <th>birth year</th>\n",
       "      <th>gender</th>\n",
       "      <th>date</th>\n",
       "      <th>hour</th>\n",
       "    </tr>\n",
       "  </thead>\n",
       "  <tbody>\n",
       "    <tr>\n",
       "      <th>0</th>\n",
       "      <td>297</td>\n",
       "      <td>2017-11-01 00:00:01</td>\n",
       "      <td>2017-11-01 00:04:59</td>\n",
       "      <td>418</td>\n",
       "      <td>Front St &amp; Gold St</td>\n",
       "      <td>40.702240</td>\n",
       "      <td>-73.982578</td>\n",
       "      <td>414</td>\n",
       "      <td>Pearl St &amp; Anchorage Pl</td>\n",
       "      <td>40.702819</td>\n",
       "      <td>-73.987658</td>\n",
       "      <td>24753</td>\n",
       "      <td>Subscriber</td>\n",
       "      <td>1986.0</td>\n",
       "      <td>1</td>\n",
       "      <td>2017-11-01 00:00:01</td>\n",
       "      <td>0</td>\n",
       "    </tr>\n",
       "    <tr>\n",
       "      <th>1</th>\n",
       "      <td>269</td>\n",
       "      <td>2017-11-01 00:00:01</td>\n",
       "      <td>2017-11-01 00:04:30</td>\n",
       "      <td>3556</td>\n",
       "      <td>24 St &amp; 41 Ave</td>\n",
       "      <td>40.752709</td>\n",
       "      <td>-73.939740</td>\n",
       "      <td>3126</td>\n",
       "      <td>44 Dr &amp; Jackson Ave</td>\n",
       "      <td>40.747182</td>\n",
       "      <td>-73.943264</td>\n",
       "      <td>19063</td>\n",
       "      <td>Subscriber</td>\n",
       "      <td>1990.0</td>\n",
       "      <td>1</td>\n",
       "      <td>2017-11-01 00:00:01</td>\n",
       "      <td>0</td>\n",
       "    </tr>\n",
       "    <tr>\n",
       "      <th>2</th>\n",
       "      <td>285</td>\n",
       "      <td>2017-11-01 00:00:04</td>\n",
       "      <td>2017-11-01 00:04:50</td>\n",
       "      <td>275</td>\n",
       "      <td>Washington Ave &amp; Greene Ave</td>\n",
       "      <td>40.686501</td>\n",
       "      <td>-73.965633</td>\n",
       "      <td>3429</td>\n",
       "      <td>Hanson Pl &amp; Ashland Pl</td>\n",
       "      <td>40.685068</td>\n",
       "      <td>-73.977908</td>\n",
       "      <td>29131</td>\n",
       "      <td>Subscriber</td>\n",
       "      <td>1993.0</td>\n",
       "      <td>1</td>\n",
       "      <td>2017-11-01 00:00:04</td>\n",
       "      <td>0</td>\n",
       "    </tr>\n",
       "    <tr>\n",
       "      <th>3</th>\n",
       "      <td>478</td>\n",
       "      <td>2017-11-01 00:00:13</td>\n",
       "      <td>2017-11-01 00:08:11</td>\n",
       "      <td>3545</td>\n",
       "      <td>Broadway &amp; W 122 St</td>\n",
       "      <td>40.812056</td>\n",
       "      <td>-73.961255</td>\n",
       "      <td>3316</td>\n",
       "      <td>W 104 St &amp; Amsterdam Ave</td>\n",
       "      <td>40.798994</td>\n",
       "      <td>-73.966217</td>\n",
       "      <td>32841</td>\n",
       "      <td>Customer</td>\n",
       "      <td>NaN</td>\n",
       "      <td>0</td>\n",
       "      <td>2017-11-01 00:00:13</td>\n",
       "      <td>0</td>\n",
       "    </tr>\n",
       "    <tr>\n",
       "      <th>4</th>\n",
       "      <td>574</td>\n",
       "      <td>2017-11-01 00:00:20</td>\n",
       "      <td>2017-11-01 00:09:54</td>\n",
       "      <td>458</td>\n",
       "      <td>11 Ave &amp; W 27 St</td>\n",
       "      <td>40.751396</td>\n",
       "      <td>-74.005226</td>\n",
       "      <td>434</td>\n",
       "      <td>9 Ave &amp; W 18 St</td>\n",
       "      <td>40.743174</td>\n",
       "      <td>-74.003664</td>\n",
       "      <td>17697</td>\n",
       "      <td>Subscriber</td>\n",
       "      <td>1975.0</td>\n",
       "      <td>2</td>\n",
       "      <td>2017-11-01 00:00:20</td>\n",
       "      <td>0</td>\n",
       "    </tr>\n",
       "  </tbody>\n",
       "</table>\n",
       "</div>"
      ],
      "text/plain": [
       "   tripduration            starttime             stoptime  start station id  \\\n",
       "0           297  2017-11-01 00:00:01  2017-11-01 00:04:59               418   \n",
       "1           269  2017-11-01 00:00:01  2017-11-01 00:04:30              3556   \n",
       "2           285  2017-11-01 00:00:04  2017-11-01 00:04:50               275   \n",
       "3           478  2017-11-01 00:00:13  2017-11-01 00:08:11              3545   \n",
       "4           574  2017-11-01 00:00:20  2017-11-01 00:09:54               458   \n",
       "\n",
       "            start station name  start station latitude  \\\n",
       "0           Front St & Gold St               40.702240   \n",
       "1               24 St & 41 Ave               40.752709   \n",
       "2  Washington Ave & Greene Ave               40.686501   \n",
       "3          Broadway & W 122 St               40.812056   \n",
       "4             11 Ave & W 27 St               40.751396   \n",
       "\n",
       "   start station longitude  end station id          end station name  \\\n",
       "0               -73.982578             414   Pearl St & Anchorage Pl   \n",
       "1               -73.939740            3126       44 Dr & Jackson Ave   \n",
       "2               -73.965633            3429    Hanson Pl & Ashland Pl   \n",
       "3               -73.961255            3316  W 104 St & Amsterdam Ave   \n",
       "4               -74.005226             434           9 Ave & W 18 St   \n",
       "\n",
       "   end station latitude  end station longitude  bikeid    usertype  \\\n",
       "0             40.702819             -73.987658   24753  Subscriber   \n",
       "1             40.747182             -73.943264   19063  Subscriber   \n",
       "2             40.685068             -73.977908   29131  Subscriber   \n",
       "3             40.798994             -73.966217   32841    Customer   \n",
       "4             40.743174             -74.003664   17697  Subscriber   \n",
       "\n",
       "   birth year  gender                date  hour  \n",
       "0      1986.0       1 2017-11-01 00:00:01     0  \n",
       "1      1990.0       1 2017-11-01 00:00:01     0  \n",
       "2      1993.0       1 2017-11-01 00:00:04     0  \n",
       "3         NaN       0 2017-11-01 00:00:13     0  \n",
       "4      1975.0       2 2017-11-01 00:00:20     0  "
      ]
     },
     "execution_count": 10,
     "metadata": {},
     "output_type": "execute_result"
    }
   ],
   "source": [
    "citibike.head()"
   ]
  },
  {
   "cell_type": "code",
   "execution_count": 5,
   "metadata": {
    "scrolled": true
   },
   "outputs": [],
   "source": [
    "#make a dataframe to look at the distribution by hour\n",
    "\n",
    "citibike_hr_cnt = citibike.groupby(citibike['hour']).count() #check to see the distribution of rides by hour"
   ]
  },
  {
   "cell_type": "code",
   "execution_count": 6,
   "metadata": {},
   "outputs": [],
   "source": [
    "#reset the index so hour is a column\n",
    "citibike_hr_cnt.reset_index(inplace=True)\n"
   ]
  },
  {
   "cell_type": "code",
   "execution_count": 18,
   "metadata": {},
   "outputs": [
    {
     "data": {
      "text/html": [
       "<div>\n",
       "<table border=\"1\" class=\"dataframe\">\n",
       "  <thead>\n",
       "    <tr style=\"text-align: right;\">\n",
       "      <th></th>\n",
       "      <th>hour</th>\n",
       "      <th>tripduration</th>\n",
       "      <th>starttime</th>\n",
       "      <th>stoptime</th>\n",
       "      <th>start station id</th>\n",
       "      <th>start station name</th>\n",
       "      <th>start station latitude</th>\n",
       "      <th>start station longitude</th>\n",
       "      <th>end station id</th>\n",
       "      <th>end station name</th>\n",
       "      <th>end station latitude</th>\n",
       "      <th>end station longitude</th>\n",
       "      <th>bikeid</th>\n",
       "      <th>usertype</th>\n",
       "      <th>birth year</th>\n",
       "      <th>gender</th>\n",
       "      <th>date</th>\n",
       "    </tr>\n",
       "  </thead>\n",
       "  <tbody>\n",
       "    <tr>\n",
       "      <th>0</th>\n",
       "      <td>0</td>\n",
       "      <td>10508</td>\n",
       "      <td>10508</td>\n",
       "      <td>10508</td>\n",
       "      <td>10508</td>\n",
       "      <td>10508</td>\n",
       "      <td>10508</td>\n",
       "      <td>10508</td>\n",
       "      <td>10508</td>\n",
       "      <td>10508</td>\n",
       "      <td>10508</td>\n",
       "      <td>10508</td>\n",
       "      <td>10508</td>\n",
       "      <td>10508</td>\n",
       "      <td>9892</td>\n",
       "      <td>10508</td>\n",
       "      <td>10508</td>\n",
       "    </tr>\n",
       "    <tr>\n",
       "      <th>1</th>\n",
       "      <td>1</td>\n",
       "      <td>5824</td>\n",
       "      <td>5824</td>\n",
       "      <td>5824</td>\n",
       "      <td>5824</td>\n",
       "      <td>5824</td>\n",
       "      <td>5824</td>\n",
       "      <td>5824</td>\n",
       "      <td>5824</td>\n",
       "      <td>5824</td>\n",
       "      <td>5824</td>\n",
       "      <td>5824</td>\n",
       "      <td>5824</td>\n",
       "      <td>5824</td>\n",
       "      <td>5453</td>\n",
       "      <td>5824</td>\n",
       "      <td>5824</td>\n",
       "    </tr>\n",
       "    <tr>\n",
       "      <th>2</th>\n",
       "      <td>2</td>\n",
       "      <td>3067</td>\n",
       "      <td>3067</td>\n",
       "      <td>3067</td>\n",
       "      <td>3067</td>\n",
       "      <td>3067</td>\n",
       "      <td>3067</td>\n",
       "      <td>3067</td>\n",
       "      <td>3067</td>\n",
       "      <td>3067</td>\n",
       "      <td>3067</td>\n",
       "      <td>3067</td>\n",
       "      <td>3067</td>\n",
       "      <td>3067</td>\n",
       "      <td>2873</td>\n",
       "      <td>3067</td>\n",
       "      <td>3067</td>\n",
       "    </tr>\n",
       "    <tr>\n",
       "      <th>3</th>\n",
       "      <td>3</td>\n",
       "      <td>1964</td>\n",
       "      <td>1964</td>\n",
       "      <td>1964</td>\n",
       "      <td>1964</td>\n",
       "      <td>1964</td>\n",
       "      <td>1964</td>\n",
       "      <td>1964</td>\n",
       "      <td>1964</td>\n",
       "      <td>1964</td>\n",
       "      <td>1964</td>\n",
       "      <td>1964</td>\n",
       "      <td>1964</td>\n",
       "      <td>1964</td>\n",
       "      <td>1831</td>\n",
       "      <td>1964</td>\n",
       "      <td>1964</td>\n",
       "    </tr>\n",
       "    <tr>\n",
       "      <th>4</th>\n",
       "      <td>4</td>\n",
       "      <td>2112</td>\n",
       "      <td>2112</td>\n",
       "      <td>2112</td>\n",
       "      <td>2112</td>\n",
       "      <td>2112</td>\n",
       "      <td>2112</td>\n",
       "      <td>2112</td>\n",
       "      <td>2112</td>\n",
       "      <td>2112</td>\n",
       "      <td>2112</td>\n",
       "      <td>2112</td>\n",
       "      <td>2112</td>\n",
       "      <td>2112</td>\n",
       "      <td>2015</td>\n",
       "      <td>2112</td>\n",
       "      <td>2112</td>\n",
       "    </tr>\n",
       "  </tbody>\n",
       "</table>\n",
       "</div>"
      ],
      "text/plain": [
       "   hour  tripduration  starttime  stoptime  start station id  \\\n",
       "0     0         10508      10508     10508             10508   \n",
       "1     1          5824       5824      5824              5824   \n",
       "2     2          3067       3067      3067              3067   \n",
       "3     3          1964       1964      1964              1964   \n",
       "4     4          2112       2112      2112              2112   \n",
       "\n",
       "   start station name  start station latitude  start station longitude  \\\n",
       "0               10508                   10508                    10508   \n",
       "1                5824                    5824                     5824   \n",
       "2                3067                    3067                     3067   \n",
       "3                1964                    1964                     1964   \n",
       "4                2112                    2112                     2112   \n",
       "\n",
       "   end station id  end station name  end station latitude  \\\n",
       "0           10508             10508                 10508   \n",
       "1            5824              5824                  5824   \n",
       "2            3067              3067                  3067   \n",
       "3            1964              1964                  1964   \n",
       "4            2112              2112                  2112   \n",
       "\n",
       "   end station longitude  bikeid  usertype  birth year  gender   date  \n",
       "0                  10508   10508     10508        9892   10508  10508  \n",
       "1                   5824    5824      5824        5453    5824   5824  \n",
       "2                   3067    3067      3067        2873    3067   3067  \n",
       "3                   1964    1964      1964        1831    1964   1964  \n",
       "4                   2112    2112      2112        2015    2112   2112  "
      ]
     },
     "execution_count": 18,
     "metadata": {},
     "output_type": "execute_result"
    }
   ],
   "source": [
    "citibike_hr_cnt.head()"
   ]
  },
  {
   "cell_type": "code",
   "execution_count": 21,
   "metadata": {},
   "outputs": [],
   "source": [
    "citibike_hr_cnt['percent'] = (citibike_hr_cnt['bikeid'] / citibike_hr_cnt['bikeid'].sum()) * 100 #make a column with percentages"
   ]
  },
  {
   "cell_type": "code",
   "execution_count": 24,
   "metadata": {},
   "outputs": [
    {
     "data": {
      "text/plain": [
       "100.0"
      ]
     },
     "execution_count": 24,
     "metadata": {},
     "output_type": "execute_result"
    }
   ],
   "source": [
    "citibike_hr_cnt['percent'].sum() #check they sum to 100"
   ]
  },
  {
   "cell_type": "code",
   "execution_count": 32,
   "metadata": {},
   "outputs": [
    {
     "data": {
      "image/png": "[encoded data removed]",
      "text/plain": [
       "<matplotlib.figure.Figure at 0x7f360d389588>"
      ]
     },
     "metadata": {},
     "output_type": "display_data"
    }
   ],
   "source": [
    "##plot the distribution by hour\n",
    "fig = plt.figure(figsize=(10,10)) #initialize figure\n",
    "ax1 = fig.add_subplot(111) #initialize subplot\n",
    "\n",
    "citibike_hr_cnt.plot(x='hour', y='percent', kind='bar', ax=ax1,legend=False)\n",
    "\n",
    "ax1.set_xlabel(\"Hour of Day (index to 12AM=0)\") #x label added\n",
    "ax1.set_ylabel(\"Percent of Rides by Hour (%))\") #add Y label\n",
    "ax1.grid(False)\n",
    "\n",
    "rects = ax1.patches\n",
    "\n",
    "# For each bar: Place a label\n",
    "for rect in rects:\n",
    "    # Get X and Y placement of label from rect.\n",
    "    y_value = rect.get_height()\n",
    "    x_value = rect.get_x() + rect.get_width() / 2\n",
    "\n",
    "    # Number of points between bar and label. Change to your liking.\n",
    "    space = 5\n",
    "    # Vertical alignment for positive values\n",
    "    va = 'bottom'\n",
    "\n",
    "    # If value of bar is negative: Place label below bar\n",
    "    if y_value < 0:\n",
    "        # Invert space to place label below\n",
    "        space *= -1\n",
    "        # Vertically align label at top\n",
    "        va = 'top'\n",
    "\n",
    "    # Use Y value as label and format number with one decimal place\n",
    "    label = \"{:.1f}\".format(y_value)\n",
    "\n",
    "    # Create annotation\n",
    "    plt.annotate(\n",
    "        label,                      # Use `label` as label\n",
    "        (x_value, y_value),         # Place label at end of the bar\n",
    "        xytext=(0, space),          # Vertically shift label by `space`\n",
    "        textcoords=\"offset points\", # Interpret `xytext` as offset in points\n",
    "        ha='center',                # Horizontally center label\n",
    "        va=va)                      # Vertically align label differently for\n",
    "                 \n",
    "\n",
    "plt.title(\"Fig 1: % of Rides by Hour\")\n",
    "plt.savefig('Fig 1: % of Rides by Hour.png')"
   ]
  },
  {
   "cell_type": "code",
   "execution_count": 29,
   "metadata": {},
   "outputs": [],
   "source": [
    "def night_day_label(row):\n",
    "    \"\"\"Function to set up a column based on conditions\"\"\"\n",
    "    if row['hour'] < 5:\n",
    "        return 1\n",
    "    if row['hour'] >= 20:\n",
    "        return 1\n",
    "    else:\n",
    "        return 0"
   ]
  },
  {
   "cell_type": "code",
   "execution_count": 30,
   "metadata": {},
   "outputs": [],
   "source": [
    "citibike['night_flag'] = citibike.apply(lambda row: night_day_label(row),axis=1) #apply night_day_label"
   ]
  },
  {
   "cell_type": "code",
   "execution_count": 31,
   "metadata": {},
   "outputs": [
    {
     "data": {
      "text/html": [
       "<div>\n",
       "<table border=\"1\" class=\"dataframe\">\n",
       "  <thead>\n",
       "    <tr style=\"text-align: right;\">\n",
       "      <th></th>\n",
       "      <th>hour</th>\n",
       "      <th>gender</th>\n",
       "      <th>night_flag</th>\n",
       "    </tr>\n",
       "  </thead>\n",
       "  <tbody>\n",
       "    <tr>\n",
       "      <th>0</th>\n",
       "      <td>0</td>\n",
       "      <td>1</td>\n",
       "      <td>1</td>\n",
       "    </tr>\n",
       "    <tr>\n",
       "      <th>1</th>\n",
       "      <td>0</td>\n",
       "      <td>1</td>\n",
       "      <td>1</td>\n",
       "    </tr>\n",
       "    <tr>\n",
       "      <th>2</th>\n",
       "      <td>0</td>\n",
       "      <td>1</td>\n",
       "      <td>1</td>\n",
       "    </tr>\n",
       "    <tr>\n",
       "      <th>3</th>\n",
       "      <td>0</td>\n",
       "      <td>0</td>\n",
       "      <td>1</td>\n",
       "    </tr>\n",
       "    <tr>\n",
       "      <th>4</th>\n",
       "      <td>0</td>\n",
       "      <td>2</td>\n",
       "      <td>1</td>\n",
       "    </tr>\n",
       "  </tbody>\n",
       "</table>\n",
       "</div>"
      ],
      "text/plain": [
       "   hour  gender  night_flag\n",
       "0     0       1           1\n",
       "1     0       1           1\n",
       "2     0       1           1\n",
       "3     0       0           1\n",
       "4     0       2           1"
      ]
     },
     "execution_count": 31,
     "metadata": {},
     "output_type": "execute_result"
    }
   ],
   "source": [
    "citibike_clean = citibike[['hour','gender','night_flag']] #filter and create new dataframe\n",
    "citibike_clean.head() #print new df head"
   ]
  },
  {
   "cell_type": "code",
   "execution_count": 37,
   "metadata": {},
   "outputs": [],
   "source": [
    "#plot data I think we be relevant:\n",
    "\n",
    "men_biking = citibike_clean[citibike_clean['gender'] == 1]\n",
    "women_biking = citibike_clean[citibike_clean['gender'] == 2]\n",
    "men_biking_night = citibike_clean[(citibike_clean['gender'] == 1) & (citibike_clean['night_flag'] ==1)]\n",
    "women_biking_night = citibike_clean[(citibike['gender'] == 2) & (citibike_clean['night_flag'] ==1)]\n",
    "men_biking_day = citibike_clean[(citibike_clean['gender'] == 1) & (citibike_clean['night_flag'] == 0)]\n",
    "women_biking_day = citibike_clean[(citibike['gender'] == 2) & (citibike_clean['night_flag'] ==0)]"
   ]
  },
  {
   "cell_type": "code",
   "execution_count": 41,
   "metadata": {},
   "outputs": [
    {
     "data": {
      "text/html": [
       "<div>\n",
       "<table border=\"1\" class=\"dataframe\">\n",
       "  <thead>\n",
       "    <tr style=\"text-align: right;\">\n",
       "      <th></th>\n",
       "      <th>hour</th>\n",
       "      <th>gender</th>\n",
       "      <th>night_flag</th>\n",
       "    </tr>\n",
       "  </thead>\n",
       "  <tbody>\n",
       "    <tr>\n",
       "      <th>0</th>\n",
       "      <td>0</td>\n",
       "      <td>1</td>\n",
       "      <td>1</td>\n",
       "    </tr>\n",
       "    <tr>\n",
       "      <th>1</th>\n",
       "      <td>0</td>\n",
       "      <td>1</td>\n",
       "      <td>1</td>\n",
       "    </tr>\n",
       "    <tr>\n",
       "      <th>2</th>\n",
       "      <td>0</td>\n",
       "      <td>1</td>\n",
       "      <td>1</td>\n",
       "    </tr>\n",
       "    <tr>\n",
       "      <th>5</th>\n",
       "      <td>0</td>\n",
       "      <td>1</td>\n",
       "      <td>1</td>\n",
       "    </tr>\n",
       "    <tr>\n",
       "      <th>7</th>\n",
       "      <td>0</td>\n",
       "      <td>1</td>\n",
       "      <td>1</td>\n",
       "    </tr>\n",
       "  </tbody>\n",
       "</table>\n",
       "</div>"
      ],
      "text/plain": [
       "   hour  gender  night_flag\n",
       "0     0       1           1\n",
       "1     0       1           1\n",
       "2     0       1           1\n",
       "5     0       1           1\n",
       "7     0       1           1"
      ]
     },
     "execution_count": 41,
     "metadata": {},
     "output_type": "execute_result"
    }
   ],
   "source": [
    "men_biking_night.head()"
   ]
  },
  {
   "cell_type": "code",
   "execution_count": 34,
   "metadata": {
    "scrolled": false
   },
   "outputs": [
    {
     "data": {
      "image/png": "[encoded data removed]",
      "text/plain": [
       "<matplotlib.figure.Figure at 0x7f360c4be898>"
      ]
     },
     "metadata": {},
     "output_type": "display_data"
    }
   ],
   "source": [
    "\n",
    "fig = plt.figure(figsize=(10,10)) #initialize figure\n",
    "ax1 = fig.add_subplot(111) #initialize subplot\n",
    "\n",
    "ax1.hist(men_biking['hour'], bins=20, alpha=0.7, label=\"male\")\n",
    "ax1.hist(women_biking['hour'], bins=20, alpha=0.5, label=\"female\")\n",
    "\n",
    "plt.xlabel(\"Hour of Day\") #x label added\n",
    "plt.ylabel(\"Number of Rides\") #add Y label\n",
    "plt.legend(loc = \"upper right\") #add legend\n",
    "plt.title(\"Fig 2: Number of Citibike rides by men and women by hour of day\")\n",
    "\n",
    "plt.savefig('Fig 2: Number of Citibike Rides by Men and Women and Hour of the Day.png')"
   ]
  },
  {
   "cell_type": "code",
   "execution_count": 48,
   "metadata": {},
   "outputs": [],
   "source": [
    "#import function to a chi-square test:\n",
    "\n",
    "def chi_square(x, Ntot):\n",
    "    \"\"\"Function to calculate the chi-square value from a 2-dimensional array\"\"\"\n",
    "    test_fel = (x[0,0] + x[0,1]) * (x[0,0] + x[1,0]) / Ntot \n",
    "    control_fel = (x[1,0] + x[1,1]) * (x[0,0] + x[1,0]) / Ntot\n",
    "    test_no = (x[0,0] + x[0,1]) * (x[0,1] + x[1,1]) / Ntot\n",
    "    control_no = (x[1,0] + x[1,1]) * (x[0,1] + x[1,1]) / Ntot\n",
    "    \n",
    "    a = ((x[0,0] - test_fel) ** 2) / test_fel\n",
    "    b = ((x[1,0] - control_fel) ** 2) / control_fel\n",
    "    c = ((x[0,1] - test_no) ** 2) / test_no\n",
    "    d = ((x[1,1] - control_no) ** 2) / control_no\n",
    "    \n",
    "    chi_square = a + b + c + d\n",
    "    \n",
    "    return print(\"The chi-square value is:\", chi_square)\n"
   ]
  },
  {
   "cell_type": "code",
   "execution_count": 54,
   "metadata": {},
   "outputs": [
    {
     "data": {
      "text/plain": [
       "1330649"
      ]
     },
     "execution_count": 54,
     "metadata": {},
     "output_type": "execute_result"
    }
   ],
   "source": [
    "citibike_clean['hour'].count()"
   ]
  },
  {
   "cell_type": "code",
   "execution_count": 53,
   "metadata": {},
   "outputs": [
    {
     "data": {
      "text/html": [
       "<div>\n",
       "<table border=\"1\" class=\"dataframe\">\n",
       "  <thead>\n",
       "    <tr style=\"text-align: right;\">\n",
       "      <th></th>\n",
       "      <th></th>\n",
       "      <th>hour</th>\n",
       "    </tr>\n",
       "    <tr>\n",
       "      <th>night_flag</th>\n",
       "      <th>gender</th>\n",
       "      <th></th>\n",
       "    </tr>\n",
       "  </thead>\n",
       "  <tbody>\n",
       "    <tr>\n",
       "      <th rowspan=\"3\" valign=\"top\">0</th>\n",
       "      <th>0</th>\n",
       "      <td>86443</td>\n",
       "    </tr>\n",
       "    <tr>\n",
       "      <th>1</th>\n",
       "      <td>810377</td>\n",
       "    </tr>\n",
       "    <tr>\n",
       "      <th>2</th>\n",
       "      <td>272486</td>\n",
       "    </tr>\n",
       "    <tr>\n",
       "      <th rowspan=\"3\" valign=\"top\">1</th>\n",
       "      <th>0</th>\n",
       "      <td>9279</td>\n",
       "    </tr>\n",
       "    <tr>\n",
       "      <th>1</th>\n",
       "      <td>120350</td>\n",
       "    </tr>\n",
       "    <tr>\n",
       "      <th>2</th>\n",
       "      <td>31714</td>\n",
       "    </tr>\n",
       "  </tbody>\n",
       "</table>\n",
       "</div>"
      ],
      "text/plain": [
       "                     hour\n",
       "night_flag gender        \n",
       "0          0        86443\n",
       "           1       810377\n",
       "           2       272486\n",
       "1          0         9279\n",
       "           1       120350\n",
       "           2        31714"
      ]
     },
     "execution_count": 53,
     "metadata": {},
     "output_type": "execute_result"
    }
   ],
   "source": [
    "#outputs the contingency matrix\n",
    "\n",
    "citibike_clean.groupby(['night_flag','gender']).count()"
   ]
  },
  {
   "cell_type": "code",
   "execution_count": 55,
   "metadata": {},
   "outputs": [
    {
     "name": "stdout",
     "output_type": "stream",
     "text": [
      "The chi-square value is: 1332.80924157\n"
     ]
    }
   ],
   "source": [
    "#chi_square(sample_values, Ntot)\n",
    "\n",
    "Ntot =  1234927 \n",
    "\n",
    "sample_values = np.array([[120350, 31714], [810377, 272486]])\n",
    "\n",
    "chi_square(sample_values, Ntot)"
   ]
  },
  {
   "cell_type": "code",
   "execution_count": 56,
   "metadata": {},
   "outputs": [
    {
     "data": {
      "text/plain": [
       "3.794854007693763"
      ]
     },
     "execution_count": 56,
     "metadata": {},
     "output_type": "execute_result"
    }
   ],
   "source": [
    "120350/31714 #actual ratio of men-to-women at night time"
   ]
  },
  {
   "cell_type": "code",
   "execution_count": 57,
   "metadata": {},
   "outputs": [
    {
     "data": {
      "text/plain": [
       "2.9740133438048195"
      ]
     },
     "execution_count": 57,
     "metadata": {},
     "output_type": "execute_result"
    }
   ],
   "source": [
    "810377/272486 #ratio of men to women during the day"
   ]
  },
  {
   "cell_type": "code",
   "execution_count": 58,
   "metadata": {},
   "outputs": [
    {
     "data": {
      "text/plain": [
       "0.32684127569093835"
      ]
     },
     "execution_count": 58,
     "metadata": {},
     "output_type": "execute_result"
    }
   ],
   "source": [
    "(31714+272486) / (120350+810377)"
   ]
  },
  {
   "cell_type": "code",
   "execution_count": 59,
   "metadata": {},
   "outputs": [
    {
     "data": {
      "text/plain": [
       "0.2085569234006734"
      ]
     },
     "execution_count": 59,
     "metadata": {},
     "output_type": "execute_result"
    }
   ],
   "source": [
    "31714/(31714+120350)"
   ]
  },
  {
   "cell_type": "code",
   "execution_count": null,
   "metadata": {},
   "outputs": [],
   "source": []
  }
 ],
 "metadata": {
  "kernelspec": {
   "display_name": "PUI2016_Python3",
   "language": "python",
   "name": "pui2016_python3"
  },
  "language_info": {
   "codemirror_mode": {
    "name": "ipython",
    "version": 3
   },
   "file_extension": ".py",
   "mimetype": "text/x-python",
   "name": "python",
   "nbconvert_exporter": "python",
   "pygments_lexer": "ipython3",
   "version": "3.5.4"
  }
 },
 "nbformat": 4,
 "nbformat_minor": 2
}
